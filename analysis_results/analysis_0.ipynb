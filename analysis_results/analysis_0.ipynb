{
 "cells": [
  {
   "cell_type": "code",
   "execution_count": 3,
   "metadata": {},
   "outputs": [],
   "source": [
    "import pandas as pd\n",
    "import os"
   ]
  },
  {
   "cell_type": "code",
   "execution_count": 5,
   "metadata": {},
   "outputs": [],
   "source": [
    "results_folder = '../experiments/results/experiment_0'"
   ]
  },
  {
   "cell_type": "code",
   "execution_count": 7,
   "metadata": {},
   "outputs": [],
   "source": [
    "files = os.listdir(results_folder)"
   ]
  },
  {
   "cell_type": "code",
   "execution_count": 9,
   "metadata": {},
   "outputs": [],
   "source": [
    "metrics = [file for file in files if 'metrics' in file]\n",
    "topics = [file for file in files if 'topics' in file]\n"
   ]
  },
  {
   "cell_type": "code",
   "execution_count": 18,
   "metadata": {},
   "outputs": [
    {
     "name": "stdout",
     "output_type": "stream",
     "text": [
      "npmi         0.083043\n",
      "diversity    0.770000\n",
      "wetc         0.706381\n",
      "dtype: float64 npmi         0.028612\n",
      "diversity    0.026458\n",
      "wetc         0.021600\n",
      "dtype: float64\n",
      "npmi         0.048273\n",
      "diversity    0.722222\n",
      "wetc         0.731973\n",
      "dtype: float64 npmi         0.027004\n",
      "diversity    0.027756\n",
      "wetc         0.044162\n",
      "dtype: float64\n",
      "npmi         0.034449\n",
      "diversity    0.866667\n",
      "wetc         0.678752\n",
      "dtype: float64 npmi         0.045796\n",
      "diversity    0.030551\n",
      "wetc         0.013780\n",
      "dtype: float64\n"
     ]
    }
   ],
   "source": [
    "metrics_data = pd.DataFrame()\n",
    "for path in metrics:\n",
    "    df = pd.read_csv(results_folder+'/'+path)\n",
    "    print(df.iloc[:,1:].mean(), df.iloc[:,1:].std())\n",
    "    metrics_data = metrics_data.append(df, ignore_index=True)"
   ]
  },
  {
   "cell_type": "code",
   "execution_count": 12,
   "metadata": {},
   "outputs": [
    {
     "data": {
      "text/html": [
       "<div>\n",
       "<style scoped>\n",
       "    .dataframe tbody tr th:only-of-type {\n",
       "        vertical-align: middle;\n",
       "    }\n",
       "\n",
       "    .dataframe tbody tr th {\n",
       "        vertical-align: top;\n",
       "    }\n",
       "\n",
       "    .dataframe thead th {\n",
       "        text-align: right;\n",
       "    }\n",
       "</style>\n",
       "<table border=\"1\" class=\"dataframe\">\n",
       "  <thead>\n",
       "    <tr style=\"text-align: right;\">\n",
       "      <th></th>\n",
       "      <th>Unnamed: 0</th>\n",
       "      <th>npmi</th>\n",
       "      <th>diversity</th>\n",
       "      <th>wetc</th>\n",
       "    </tr>\n",
       "  </thead>\n",
       "  <tbody>\n",
       "    <tr>\n",
       "      <th>0</th>\n",
       "      <td>0</td>\n",
       "      <td>0.080763</td>\n",
       "      <td>0.740000</td>\n",
       "      <td>0.713476</td>\n",
       "    </tr>\n",
       "    <tr>\n",
       "      <th>1</th>\n",
       "      <td>1</td>\n",
       "      <td>0.055639</td>\n",
       "      <td>0.780000</td>\n",
       "      <td>0.723541</td>\n",
       "    </tr>\n",
       "    <tr>\n",
       "      <th>2</th>\n",
       "      <td>2</td>\n",
       "      <td>0.112727</td>\n",
       "      <td>0.790000</td>\n",
       "      <td>0.682127</td>\n",
       "    </tr>\n",
       "    <tr>\n",
       "      <th>3</th>\n",
       "      <td>0</td>\n",
       "      <td>0.064929</td>\n",
       "      <td>0.713333</td>\n",
       "      <td>0.685825</td>\n",
       "    </tr>\n",
       "    <tr>\n",
       "      <th>4</th>\n",
       "      <td>1</td>\n",
       "      <td>0.017117</td>\n",
       "      <td>0.700000</td>\n",
       "      <td>0.773837</td>\n",
       "    </tr>\n",
       "    <tr>\n",
       "      <th>5</th>\n",
       "      <td>2</td>\n",
       "      <td>0.062773</td>\n",
       "      <td>0.753333</td>\n",
       "      <td>0.736256</td>\n",
       "    </tr>\n",
       "    <tr>\n",
       "      <th>6</th>\n",
       "      <td>0</td>\n",
       "      <td>0.084447</td>\n",
       "      <td>0.900000</td>\n",
       "      <td>0.670573</td>\n",
       "    </tr>\n",
       "    <tr>\n",
       "      <th>7</th>\n",
       "      <td>1</td>\n",
       "      <td>-0.005464</td>\n",
       "      <td>0.840000</td>\n",
       "      <td>0.694661</td>\n",
       "    </tr>\n",
       "    <tr>\n",
       "      <th>8</th>\n",
       "      <td>2</td>\n",
       "      <td>0.024365</td>\n",
       "      <td>0.860000</td>\n",
       "      <td>0.671021</td>\n",
       "    </tr>\n",
       "  </tbody>\n",
       "</table>\n",
       "</div>"
      ],
      "text/plain": [
       "   Unnamed: 0      npmi  diversity      wetc\n",
       "0           0  0.080763   0.740000  0.713476\n",
       "1           1  0.055639   0.780000  0.723541\n",
       "2           2  0.112727   0.790000  0.682127\n",
       "3           0  0.064929   0.713333  0.685825\n",
       "4           1  0.017117   0.700000  0.773837\n",
       "5           2  0.062773   0.753333  0.736256\n",
       "6           0  0.084447   0.900000  0.670573\n",
       "7           1 -0.005464   0.840000  0.694661\n",
       "8           2  0.024365   0.860000  0.671021"
      ]
     },
     "execution_count": 12,
     "metadata": {},
     "output_type": "execute_result"
    }
   ],
   "source": [
    "metrics_data"
   ]
  }
 ],
 "metadata": {
  "kernelspec": {
   "display_name": "Python 3",
   "language": "python",
   "name": "python3"
  },
  "language_info": {
   "codemirror_mode": {
    "name": "ipython",
    "version": 3
   },
   "file_extension": ".py",
   "mimetype": "text/x-python",
   "name": "python",
   "nbconvert_exporter": "python",
   "pygments_lexer": "ipython3",
   "version": "3.8.6"
  },
  "orig_nbformat": 4
 },
 "nbformat": 4,
 "nbformat_minor": 2
}
