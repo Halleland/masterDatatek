{
 "cells": [
  {
   "cell_type": "code",
   "execution_count": 1,
   "metadata": {},
   "outputs": [],
   "source": [
    "import clean_data"
   ]
  },
  {
   "cell_type": "code",
   "execution_count": 2,
   "metadata": {},
   "outputs": [],
   "source": [
    "import pandas as pd"
   ]
  },
  {
   "cell_type": "code",
   "execution_count": 3,
   "metadata": {},
   "outputs": [],
   "source": [
    "filenames = ['part-00000-48a6f07e-bb86-4735-aac7-883349f41a28-c000.json',\n",
    "            'part-00001-48a6f07e-bb86-4735-aac7-883349f41a28-c000.json',\n",
    "            'part-00002-48a6f07e-bb86-4735-aac7-883349f41a28-c000.json',\n",
    "            'part-00003-48a6f07e-bb86-4735-aac7-883349f41a28-c000.json',\n",
    "            'part-00004-48a6f07e-bb86-4735-aac7-883349f41a28-c000.json',\n",
    "            ]\n",
    "raw_folder = '..\\\\data\\\\raw'\n",
    "processed_folder = '..\\\\data\\\\processed'"
   ]
  },
  {
   "cell_type": "code",
   "execution_count": 4,
   "metadata": {},
   "outputs": [],
   "source": [
    "if True:\n",
    "    clean_data.extract_multiple_files(raw_folder, processed_folder, filenames)"
   ]
  },
  {
   "cell_type": "code",
   "execution_count": 8,
   "metadata": {},
   "outputs": [
    {
     "data": {
      "text/plain": [
       "['processed_part-00000-48a6f07e-bb86-4735-aac7-883349f41a28-c000.tsv',\n",
       " 'processed_part-00001-48a6f07e-bb86-4735-aac7-883349f41a28-c000.tsv',\n",
       " 'processed_part-00002-48a6f07e-bb86-4735-aac7-883349f41a28-c000.tsv',\n",
       " 'processed_part-00003-48a6f07e-bb86-4735-aac7-883349f41a28-c000.tsv',\n",
       " 'processed_part-00004-48a6f07e-bb86-4735-aac7-883349f41a28-c000.tsv']"
      ]
     },
     "execution_count": 8,
     "metadata": {},
     "output_type": "execute_result"
    }
   ],
   "source": [
    "processed_filenames = ['processed_'+name.split('.')[0]+'.tsv' for name in filenames]\n",
    "processed_filenames"
   ]
  },
  {
   "cell_type": "code",
   "execution_count": 6,
   "metadata": {},
   "outputs": [],
   "source": [
    "df = clean_data.load_multiple_files_to_df(processed_folder, processed_filenames)"
   ]
  },
  {
   "cell_type": "code",
   "execution_count": 7,
   "metadata": {},
   "outputs": [
    {
     "data": {
      "text/html": [
       "<div>\n",
       "<style scoped>\n",
       "    .dataframe tbody tr th:only-of-type {\n",
       "        vertical-align: middle;\n",
       "    }\n",
       "\n",
       "    .dataframe tbody tr th {\n",
       "        vertical-align: top;\n",
       "    }\n",
       "\n",
       "    .dataframe thead th {\n",
       "        text-align: right;\n",
       "    }\n",
       "</style>\n",
       "<table border=\"1\" class=\"dataframe\">\n",
       "  <thead>\n",
       "    <tr style=\"text-align: right;\">\n",
       "      <th></th>\n",
       "      <th>Unnamed: 0</th>\n",
       "      <th>context_page_description</th>\n",
       "      <th>b64_bytes</th>\n",
       "    </tr>\n",
       "  </thead>\n",
       "  <tbody>\n",
       "    <tr>\n",
       "      <th>0</th>\n",
       "      <td>0</td>\n",
       "      <td>Scolopendra gigantea, also known as the Peruvi...</td>\n",
       "      <td>/9j/4AAQSkZJRgABAQEAtAC0AAD/2wBDAAYEBQYFBAYGBQ...</td>\n",
       "    </tr>\n",
       "    <tr>\n",
       "      <th>1</th>\n",
       "      <td>1</td>\n",
       "      <td>Teucrium corymbosum, commonly known as forest ...</td>\n",
       "      <td>/9j/4AAQSkZJRgABAQEASABIAAD//gBSRmlsZSBzb3VyY2...</td>\n",
       "    </tr>\n",
       "    <tr>\n",
       "      <th>2</th>\n",
       "      <td>2</td>\n",
       "      <td>The Christian–Patterson Rental Property is a t...</td>\n",
       "      <td>/9j/4AAQSkZJRgABAQEA8ADwAAD//gBWRmlsZSBzb3VyY2...</td>\n",
       "    </tr>\n",
       "    <tr>\n",
       "      <th>3</th>\n",
       "      <td>3</td>\n",
       "      <td>Malá Štáhle is a village and municipality in B...</td>\n",
       "      <td>/9j/4QB6RXhpZgAATU0AKgAAAAgABQEOAAIAAAAXAAAASg...</td>\n",
       "    </tr>\n",
       "    <tr>\n",
       "      <th>4</th>\n",
       "      <td>4</td>\n",
       "      <td>Hymenocallis occidentalis is a plant species n...</td>\n",
       "      <td>/9j/4AAQSkZJRgABAQEBLAEsAAD//gBcRmlsZSBzb3VyY2...</td>\n",
       "    </tr>\n",
       "  </tbody>\n",
       "</table>\n",
       "</div>"
      ],
      "text/plain": [
       "   Unnamed: 0                           context_page_description  \\\n",
       "0           0  Scolopendra gigantea, also known as the Peruvi...   \n",
       "1           1  Teucrium corymbosum, commonly known as forest ...   \n",
       "2           2  The Christian–Patterson Rental Property is a t...   \n",
       "3           3  Malá Štáhle is a village and municipality in B...   \n",
       "4           4  Hymenocallis occidentalis is a plant species n...   \n",
       "\n",
       "                                           b64_bytes  \n",
       "0  /9j/4AAQSkZJRgABAQEAtAC0AAD/2wBDAAYEBQYFBAYGBQ...  \n",
       "1  /9j/4AAQSkZJRgABAQEASABIAAD//gBSRmlsZSBzb3VyY2...  \n",
       "2  /9j/4AAQSkZJRgABAQEA8ADwAAD//gBWRmlsZSBzb3VyY2...  \n",
       "3  /9j/4QB6RXhpZgAATU0AKgAAAAgABQEOAAIAAAAXAAAASg...  \n",
       "4  /9j/4AAQSkZJRgABAQEBLAEsAAD//gBcRmlsZSBzb3VyY2...  "
      ]
     },
     "execution_count": 7,
     "metadata": {},
     "output_type": "execute_result"
    }
   ],
   "source": [
    "df.head(5)"
   ]
  }
 ],
 "metadata": {
  "kernelspec": {
   "display_name": "Python 3",
   "language": "python",
   "name": "python3"
  },
  "language_info": {
   "codemirror_mode": {
    "name": "ipython",
    "version": 3
   },
   "file_extension": ".py",
   "mimetype": "text/x-python",
   "name": "python",
   "nbconvert_exporter": "python",
   "pygments_lexer": "ipython3",
   "version": "3.8.6rc1"
  },
  "orig_nbformat": 4,
  "vscode": {
   "interpreter": {
    "hash": "a1d88f1d6af7274392319340ad589157e5034eb25853bd7ff5b502ff0dd39369"
   }
  }
 },
 "nbformat": 4,
 "nbformat_minor": 2
}
