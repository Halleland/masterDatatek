{
 "cells": [
  {
   "cell_type": "code",
   "execution_count": 1,
   "metadata": {},
   "outputs": [],
   "source": [
    "import clean_data"
   ]
  },
  {
   "cell_type": "code",
   "execution_count": 2,
   "metadata": {},
   "outputs": [],
   "source": [
    "import pandas as pd"
   ]
  },
  {
   "cell_type": "code",
   "execution_count": 3,
   "metadata": {},
   "outputs": [],
   "source": [
    "filenames = ['part-00000-48a6f07e-bb86-4735-aac7-883349f41a28-c000.json',\n",
    "            'part-00001-48a6f07e-bb86-4735-aac7-883349f41a28-c000.json',\n",
    "            'part-00002-48a6f07e-bb86-4735-aac7-883349f41a28-c000.json',\n",
    "            'part-00003-48a6f07e-bb86-4735-aac7-883349f41a28-c000.json',\n",
    "            'part-00004-48a6f07e-bb86-4735-aac7-883349f41a28-c000.json',\n",
    "            ]\n",
    "raw_folder = '..\\\\data\\\\raw'\n",
    "processed_folder = '..\\\\data\\\\processed'"
   ]
  },
  {
   "cell_type": "code",
   "execution_count": 4,
   "metadata": {},
   "outputs": [],
   "source": [
    "if True:\n",
    "    clean_data.extract_multiple_files(raw_folder, processed_folder, filenames)"
   ]
  },
  {
   "cell_type": "code",
   "execution_count": 5,
   "metadata": {},
   "outputs": [
    {
     "data": {
      "text/plain": [
       "['processed_part-00000-48a6f07e-bb86-4735-aac7-883349f41a28-c000.tsv',\n",
       " 'processed_part-00001-48a6f07e-bb86-4735-aac7-883349f41a28-c000.tsv',\n",
       " 'processed_part-00002-48a6f07e-bb86-4735-aac7-883349f41a28-c000.tsv',\n",
       " 'processed_part-00003-48a6f07e-bb86-4735-aac7-883349f41a28-c000.tsv',\n",
       " 'processed_part-00004-48a6f07e-bb86-4735-aac7-883349f41a28-c000.tsv']"
      ]
     },
     "execution_count": 5,
     "metadata": {},
     "output_type": "execute_result"
    }
   ],
   "source": [
    "processed_filenames = ['processed_'+name.split('.')[0]+'.tsv' for name in filenames]\n",
    "processed_filenames"
   ]
  },
  {
   "cell_type": "code",
   "execution_count": 6,
   "metadata": {},
   "outputs": [],
   "source": [
    "df = clean_data.load_multiple_files_to_df(processed_folder, processed_filenames)"
   ]
  },
  {
   "cell_type": "code",
   "execution_count": 8,
   "metadata": {},
   "outputs": [
    {
     "data": {
      "text/html": [
       "<div>\n",
       "<style scoped>\n",
       "    .dataframe tbody tr th:only-of-type {\n",
       "        vertical-align: middle;\n",
       "    }\n",
       "\n",
       "    .dataframe tbody tr th {\n",
       "        vertical-align: top;\n",
       "    }\n",
       "\n",
       "    .dataframe thead th {\n",
       "        text-align: right;\n",
       "    }\n",
       "</style>\n",
       "<table border=\"1\" class=\"dataframe\">\n",
       "  <thead>\n",
       "    <tr style=\"text-align: right;\">\n",
       "      <th></th>\n",
       "      <th>context_page_description</th>\n",
       "      <th>b64_bytes</th>\n",
       "    </tr>\n",
       "  </thead>\n",
       "  <tbody>\n",
       "    <tr>\n",
       "      <th>11544</th>\n",
       "      <td>Mount Grant is both the highest and most topog...</td>\n",
       "      <td>/9j/4AAQSkZJRgABAQEBOgE6AAD//gCfRmlsZSBzb3VyY2...</td>\n",
       "    </tr>\n",
       "    <tr>\n",
       "      <th>11545</th>\n",
       "      <td>The First National Bank of Adams is a historic...</td>\n",
       "      <td>/9j/4gIcSUNDX1BST0ZJTEUAAQEAAAIMbGNtcwIQAABtbn...</td>\n",
       "    </tr>\n",
       "    <tr>\n",
       "      <th>11546</th>\n",
       "      <td>Campiglia Marittima is a comune in the Provinc...</td>\n",
       "      <td>/9j/4AAQSkZJRgABAQEASABIAAD/2wBDAAYEBQYFBAYGBQ...</td>\n",
       "    </tr>\n",
       "    <tr>\n",
       "      <th>11547</th>\n",
       "      <td>Lake of Stars Festival is an annual three-day ...</td>\n",
       "      <td>/9j/4AAQSkZJRgABAQEASABIAAD//gBkRmlsZSBzb3VyY2...</td>\n",
       "    </tr>\n",
       "    <tr>\n",
       "      <th>11548</th>\n",
       "      <td>Jacquère is a variety of white grape found pri...</td>\n",
       "      <td>/9j/2wBDAAQDAwQDAwQEAwQFBAQFBgoHBgYGBg0JCggKDw...</td>\n",
       "    </tr>\n",
       "  </tbody>\n",
       "</table>\n",
       "</div>"
      ],
      "text/plain": [
       "                                context_page_description  \\\n",
       "11544  Mount Grant is both the highest and most topog...   \n",
       "11545  The First National Bank of Adams is a historic...   \n",
       "11546  Campiglia Marittima is a comune in the Provinc...   \n",
       "11547  Lake of Stars Festival is an annual three-day ...   \n",
       "11548  Jacquère is a variety of white grape found pri...   \n",
       "\n",
       "                                               b64_bytes  \n",
       "11544  /9j/4AAQSkZJRgABAQEBOgE6AAD//gCfRmlsZSBzb3VyY2...  \n",
       "11545  /9j/4gIcSUNDX1BST0ZJTEUAAQEAAAIMbGNtcwIQAABtbn...  \n",
       "11546  /9j/4AAQSkZJRgABAQEASABIAAD/2wBDAAYEBQYFBAYGBQ...  \n",
       "11547  /9j/4AAQSkZJRgABAQEASABIAAD//gBkRmlsZSBzb3VyY2...  \n",
       "11548  /9j/2wBDAAQDAwQDAwQEAwQFBAQFBgoHBgYGBg0JCggKDw...  "
      ]
     },
     "execution_count": 8,
     "metadata": {},
     "output_type": "execute_result"
    }
   ],
   "source": [
    "df.tail(5)"
   ]
  }
 ],
 "metadata": {
  "kernelspec": {
   "display_name": "Python 3",
   "language": "python",
   "name": "python3"
  },
  "language_info": {
   "codemirror_mode": {
    "name": "ipython",
    "version": 3
   },
   "file_extension": ".py",
   "mimetype": "text/x-python",
   "name": "python",
   "nbconvert_exporter": "python",
   "pygments_lexer": "ipython3",
   "version": "3.8.6"
  },
  "orig_nbformat": 4,
  "vscode": {
   "interpreter": {
    "hash": "a1d88f1d6af7274392319340ad589157e5034eb25853bd7ff5b502ff0dd39369"
   }
  }
 },
 "nbformat": 4,
 "nbformat_minor": 2
}
