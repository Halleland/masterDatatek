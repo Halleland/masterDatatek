{
 "cells": [
  {
   "cell_type": "code",
   "execution_count": 5,
   "metadata": {},
   "outputs": [],
   "source": [
    "import sys\n",
    "sys.path.append('C:\\\\Users\\\\Martin\\\\Documents\\\\GitHub\\\\master\\\\evaluation')"
   ]
  },
  {
   "cell_type": "code",
   "execution_count": 6,
   "metadata": {},
   "outputs": [],
   "source": [
    "import octis_helper"
   ]
  },
  {
   "cell_type": "code",
   "execution_count": 7,
   "metadata": {},
   "outputs": [],
   "source": [
    "\n",
    "import helper"
   ]
  },
  {
   "cell_type": "code",
   "execution_count": 8,
   "metadata": {},
   "outputs": [],
   "source": [
    "base_path = '..\\\\data\\\\processed'\n",
    "ends = ['processed_part-00000-48a6f07e-bb86-4735-aac7-883349f41a28-c000.tsv'\n",
    "        ,'processed_part-00001-48a6f07e-bb86-4735-aac7-883349f41a28-c000.tsv'\n",
    "        ,'processed_part-00002-48a6f07e-bb86-4735-aac7-883349f41a28-c000.tsv'\n",
    "        ,'processed_part-00003-48a6f07e-bb86-4735-aac7-883349f41a28-c000.tsv'\n",
    "        ,'processed_part-00004-48a6f07e-bb86-4735-aac7-883349f41a28-c000.tsv'\n",
    "        ,]\n",
    "paths = [f'{base_path}\\\\{end}' for end in ends]\n",
    "data = helper.load_all_data(paths)"
   ]
  },
  {
   "cell_type": "code",
   "execution_count": null,
   "metadata": {},
   "outputs": [],
   "source": [
    "name = 'all_texts_single_file'"
   ]
  },
  {
   "cell_type": "code",
   "execution_count": 9,
   "metadata": {},
   "outputs": [],
   "source": [
    "\n",
    "octis_helper.reencode_and_write_to_single_file(data['context_page_description'].to_list(), name)"
   ]
  },
  {
   "cell_type": "code",
   "execution_count": 11,
   "metadata": {},
   "outputs": [
    {
     "name": "stdout",
     "output_type": "stream",
     "text": [
      "created vocab\n",
      "41603\n",
      "words filtering done\n",
      "created vocab\n",
      "56169\n",
      "words filtering done\n"
     ]
    }
   ],
   "source": [
    "octis_helper.create_lda_and_multimodal_dataset(f'{name}.txt')"
   ]
  }
 ],
 "metadata": {
  "kernelspec": {
   "display_name": "Python 3",
   "language": "python",
   "name": "python3"
  },
  "language_info": {
   "codemirror_mode": {
    "name": "ipython",
    "version": 3
   },
   "file_extension": ".py",
   "mimetype": "text/x-python",
   "name": "python",
   "nbconvert_exporter": "python",
   "pygments_lexer": "ipython3",
   "version": "3.8.6rc1"
  },
  "orig_nbformat": 4
 },
 "nbformat": 4,
 "nbformat_minor": 2
}
