{
 "cells": [
  {
   "cell_type": "code",
   "execution_count": 19,
   "metadata": {},
   "outputs": [],
   "source": [
    "from octis.dataset.dataset import Dataset\n",
    "import hdbscan\n",
    "import sys\n",
    "sys.path.append('C:\\\\Users\\\\Martin\\\\Documents\\\\GitHub\\\\master\\\\evaluation')\n",
    "import trainer\n",
    "import helper\n",
    "import pandas as pd"
   ]
  },
  {
   "cell_type": "code",
   "execution_count": 2,
   "metadata": {},
   "outputs": [],
   "source": [
    "from sentence_transformers import SentenceTransformer"
   ]
  },
  {
   "cell_type": "code",
   "execution_count": 3,
   "metadata": {},
   "outputs": [],
   "source": [
    "import multimodal\n",
    "import c_tf_idf\n",
    "import multimodalModel"
   ]
  },
  {
   "cell_type": "code",
   "execution_count": 4,
   "metadata": {},
   "outputs": [],
   "source": [
    "output_folder = './results/experiment_1'\n",
    "dataset_folder = './multimodal_custom_octis_dataset/'"
   ]
  },
  {
   "cell_type": "code",
   "execution_count": 5,
   "metadata": {},
   "outputs": [],
   "source": [
    "mm_dataset = Dataset()\n",
    "mm_dataset.load_custom_dataset_from_folder(dataset_folder)"
   ]
  },
  {
   "cell_type": "code",
   "execution_count": 6,
   "metadata": {},
   "outputs": [
    {
     "name": "stderr",
     "output_type": "stream",
     "text": [
      "c:\\Users\\Martin\\AppData\\Local\\Programs\\Python\\Python38\\lib\\site-packages\\torchvision\\transforms\\transforms.py:332: UserWarning: Argument interpolation should be of type InterpolationMode instead of int. Please, use InterpolationMode enum.\n",
      "  warnings.warn(\n"
     ]
    }
   ],
   "source": [
    "embedding_model = SentenceTransformer(\"clip-ViT-B-32\")"
   ]
  },
  {
   "cell_type": "code",
   "execution_count": 24,
   "metadata": {},
   "outputs": [],
   "source": [
    "\n",
    "path_to_data = './multimodal_data.tsv'\n",
    "\n",
    "try:\n",
    "    texts, images = multimodal.get_image_and_text_from_file(path_to_data)\n",
    "except FileNotFoundError:\n",
    "    base_path = '..\\\\data\\\\processed'\n",
    "    ends = ['processed_part-00000-48a6f07e-bb86-4735-aac7-883349f41a28-c000.tsv'\n",
    "            ,'processed_part-00001-48a6f07e-bb86-4735-aac7-883349f41a28-c000.tsv'\n",
    "            ,'processed_part-00002-48a6f07e-bb86-4735-aac7-883349f41a28-c000.tsv'\n",
    "            ,'processed_part-00003-48a6f07e-bb86-4735-aac7-883349f41a28-c000.tsv'\n",
    "            ,'processed_part-00004-48a6f07e-bb86-4735-aac7-883349f41a28-c000.tsv'\n",
    "            ,]\n",
    "    paths = [f'{base_path}\\\\{end}' for end in ends]\n",
    "    df = helper.load_all_data(paths)\n",
    "    df.to_csv(path_to_data, index=False, sep='\\t')\n",
    "    texts, images = helper.get_image_and_text_from_df(df)\n"
   ]
  },
  {
   "cell_type": "code",
   "execution_count": 25,
   "metadata": {},
   "outputs": [
    {
     "name": "stderr",
     "output_type": "stream",
     "text": [
      "100%|██████████| 91/91 [00:32<00:00,  2.80it/s]\n",
      " 37%|███▋      | 34/91 [00:33<00:55,  1.03it/s]c:\\Users\\Martin\\AppData\\Local\\Programs\\Python\\Python38\\lib\\site-packages\\PIL\\Image.py:945: UserWarning: Palette images with Transparency expressed in bytes should be converted to RGBA images\n",
      "  warnings.warn(\n",
      "100%|██████████| 91/91 [01:37<00:00,  1.07s/it]\n"
     ]
    }
   ],
   "source": [
    "text_embed = multimodal.get_embeddings_from_text(texts, embedding_model)\n",
    "image_embed = multimodal.get_embeddings_from_images(images, embedding_model)"
   ]
  },
  {
   "cell_type": "code",
   "execution_count": 10,
   "metadata": {},
   "outputs": [],
   "source": [
    "metricsloader = trainer.MetricsLoader(dataset_folder)"
   ]
  },
  {
   "cell_type": "code",
   "execution_count": 27,
   "metadata": {},
   "outputs": [
    {
     "name": "stderr",
     "output_type": "stream",
     "text": [
      "c:\\Users\\Martin\\AppData\\Local\\Programs\\Python\\Python38\\lib\\site-packages\\torchvision\\transforms\\transforms.py:332: UserWarning: Argument interpolation should be of type InterpolationMode instead of int. Please, use InterpolationMode enum.\n",
      "  warnings.warn(\n"
     ]
    },
    {
     "name": "stdout",
     "output_type": "stream",
     "text": [
      "start:14032023_14_00_31\n"
     ]
    },
    {
     "name": "stderr",
     "output_type": "stream",
     "text": [
      "[nltk_data] Downloading package stopwords to\n",
      "[nltk_data]     C:\\Users\\Martin\\AppData\\Roaming\\nltk_data...\n",
      "[nltk_data]   Package stopwords is already up-to-date!\n",
      "100%|██████████| 48919/48919 [00:54<00:00, 894.25it/s]\n",
      "100%|██████████| 48919/48919 [00:03<00:00, 14651.15it/s]\n",
      "100%|██████████| 48919/48919 [00:15<00:00, 3119.72it/s]\n",
      "100%|██████████| 48919/48919 [00:21<00:00, 2235.99it/s]\n",
      "100%|██████████| 48919/48919 [00:02<00:00, 22380.21it/s]\n",
      "100%|██████████| 48919/48919 [00:07<00:00, 6175.95it/s]\n",
      "100%|██████████| 48919/48919 [00:18<00:00, 2659.37it/s]\n",
      "100%|██████████| 48919/48919 [01:09<00:00, 700.05it/s]\n",
      "100%|██████████| 48919/48919 [00:15<00:00, 3194.16it/s]\n",
      "100%|██████████| 48919/48919 [00:03<00:00, 14746.25it/s]\n",
      "100%|██████████| 48919/48919 [00:05<00:00, 8415.48it/s]\n",
      "100%|██████████| 48919/48919 [01:29<00:00, 545.25it/s]\n",
      "100%|██████████| 48919/48919 [00:08<00:00, 5762.98it/s]\n",
      "100%|██████████| 48919/48919 [00:00<00:00, 182505.25it/s]\n"
     ]
    },
    {
     "name": "stdout",
     "output_type": "stream",
     "text": [
      "npmi:-0.03206677800424157\n",
      "diversity:0.7666666666666667\n",
      "wetc:0.6887939178750458\n"
     ]
    },
    {
     "name": "stderr",
     "output_type": "stream",
     "text": [
      "[nltk_data] Downloading package stopwords to\n",
      "[nltk_data]     C:\\Users\\Martin\\AppData\\Roaming\\nltk_data...\n",
      "[nltk_data]   Package stopwords is already up-to-date!\n",
      "100%|██████████| 48919/48919 [00:37<00:00, 1321.21it/s]\n",
      "100%|██████████| 48919/48919 [00:02<00:00, 20958.40it/s]\n",
      "100%|██████████| 48919/48919 [00:16<00:00, 3035.12it/s]\n",
      "100%|██████████| 48919/48919 [00:03<00:00, 15100.11it/s]\n",
      "100%|██████████| 48919/48919 [00:03<00:00, 13528.51it/s]\n",
      "100%|██████████| 48919/48919 [00:20<00:00, 2408.00it/s]\n",
      "100%|██████████| 48919/48919 [00:21<00:00, 2272.41it/s]\n",
      "100%|██████████| 48919/48919 [00:04<00:00, 11419.35it/s]\n",
      "100%|██████████| 48919/48919 [01:26<00:00, 568.22it/s]\n",
      "100%|██████████| 48919/48919 [01:05<00:00, 743.42it/s]\n",
      "100%|██████████| 48919/48919 [00:59<00:00, 825.25it/s]\n",
      "100%|██████████| 48919/48919 [00:12<00:00, 4012.09it/s]\n",
      "100%|██████████| 48919/48919 [00:00<00:00, 212391.42it/s]\n"
     ]
    },
    {
     "name": "stdout",
     "output_type": "stream",
     "text": [
      "npmi:-0.021224415696315158\n",
      "diversity:0.7545454545454545\n",
      "wetc:0.6712302803245654\n"
     ]
    },
    {
     "name": "stderr",
     "output_type": "stream",
     "text": [
      "[nltk_data] Downloading package stopwords to\n",
      "[nltk_data]     C:\\Users\\Martin\\AppData\\Roaming\\nltk_data...\n",
      "[nltk_data]   Package stopwords is already up-to-date!\n",
      "100%|██████████| 48919/48919 [00:45<00:00, 1083.14it/s]\n",
      "100%|██████████| 48919/48919 [00:02<00:00, 20853.91it/s]\n",
      "100%|██████████| 48919/48919 [00:19<00:00, 2453.11it/s]\n",
      "100%|██████████| 48919/48919 [02:19<00:00, 349.50it/s]\n",
      "100%|██████████| 48919/48919 [00:20<00:00, 2411.99it/s]\n",
      "100%|██████████| 48919/48919 [00:05<00:00, 8472.77it/s]\n",
      "100%|██████████| 48919/48919 [01:41<00:00, 483.03it/s]\n",
      "100%|██████████| 48919/48919 [00:03<00:00, 13332.67it/s]\n",
      "100%|██████████| 48919/48919 [00:15<00:00, 3061.63it/s]\n",
      "100%|██████████| 48919/48919 [00:05<00:00, 8269.54it/s]\n",
      "100%|██████████| 48919/48919 [00:00<00:00, 194384.83it/s]\n"
     ]
    },
    {
     "name": "stdout",
     "output_type": "stream",
     "text": [
      "npmi:-0.021337860427075993\n",
      "diversity:0.8222222222222222\n",
      "wetc:0.6492234325461014\n",
      "end:14032023_14_00_31\n"
     ]
    },
    {
     "ename": "AttributeError",
     "evalue": "module 'trainer' has no attribute 'model'",
     "output_type": "error",
     "traceback": [
      "\u001b[1;31m---------------------------------------------------------------------------\u001b[0m",
      "\u001b[1;31mAttributeError\u001b[0m                            Traceback (most recent call last)",
      "\u001b[1;32m<ipython-input-27-6033a456b6da>\u001b[0m in \u001b[0;36m<module>\u001b[1;34m\u001b[0m\n\u001b[0;32m     20\u001b[0m     \u001b[0mhelper\u001b[0m\u001b[1;33m.\u001b[0m\u001b[0mrun_experiment\u001b[0m\u001b[1;33m(\u001b[0m\u001b[0mmm_trainer\u001b[0m\u001b[1;33m,\u001b[0m \u001b[0moutput_folder\u001b[0m\u001b[1;33m,\u001b[0m \u001b[0mname\u001b[0m\u001b[1;33m=\u001b[0m\u001b[1;34mf'{base_name}unrestricted_topics_min_cluster_size_{min_cluster_size}'\u001b[0m\u001b[1;33m)\u001b[0m\u001b[1;33m\u001b[0m\u001b[1;33m\u001b[0m\u001b[0m\n\u001b[0;32m     21\u001b[0m     \u001b[1;32mif\u001b[0m \u001b[0mget_extra_info\u001b[0m\u001b[1;33m:\u001b[0m\u001b[1;33m\u001b[0m\u001b[1;33m\u001b[0m\u001b[0m\n\u001b[1;32m---> 22\u001b[1;33m         \u001b[0mlast_fit_clusterer\u001b[0m \u001b[1;33m=\u001b[0m \u001b[0mtrainer\u001b[0m\u001b[1;33m.\u001b[0m\u001b[0mmodel\u001b[0m\u001b[1;33m.\u001b[0m\u001b[0mclusterer\u001b[0m\u001b[1;33m\u001b[0m\u001b[1;33m\u001b[0m\u001b[0m\n\u001b[0m\u001b[0;32m     23\u001b[0m         \u001b[0mfitted_clusterers\u001b[0m\u001b[1;33m.\u001b[0m\u001b[0mappend\u001b[0m\u001b[1;33m(\u001b[0m\u001b[0mlast_fit_clusterer\u001b[0m\u001b[1;33m)\u001b[0m\u001b[1;33m\u001b[0m\u001b[1;33m\u001b[0m\u001b[0m\n\u001b[0;32m     24\u001b[0m \u001b[1;33m\u001b[0m\u001b[0m\n",
      "\u001b[1;31mAttributeError\u001b[0m: module 'trainer' has no attribute 'model'"
     ]
    }
   ],
   "source": [
    "params = {'path_to_data':path_to_data,\n",
    "'embedding_model':SentenceTransformer(\"clip-ViT-B-32\"),\n",
    "\n",
    "'precomputed_text_embeds':text_embed,\n",
    "'precomputed_image_embeds':image_embed\n",
    "}\n",
    "base_name = 'experiment_1_mm_'\n",
    "\n",
    "min_cluster_sizes = [100, 200, 400]\n",
    "\n",
    "get_extra_info = True\n",
    "fitted_clusterers = []\n",
    "image_representatives = []\n",
    "top_terms_representatives = []\n",
    "for min_cluster_size in min_cluster_sizes:\n",
    "    clusterer = hdbscan.HDBSCAN(min_cluster_size=min_cluster_size)\n",
    "    params['clusterer']=clusterer\n",
    "\n",
    "    mm_trainer = trainer.Trainer(custom_dataset_folder=dataset_folder, params=params, metrics_loader=metricsloader)\n",
    "    helper.run_experiment(mm_trainer, output_folder, name=f'{base_name}unrestricted_topics_min_cluster_size_{min_cluster_size}')\n",
    "    if get_extra_info:\n",
    "        last_fit_clusterer = mm_trainer.model.clusterer\n",
    "        fitted_clusterers.append(last_fit_clusterer)\n",
    "\n",
    "        mm_trainer.model.find_image_representatives()\n",
    "        last_fit_images = mm_trainer.model.cluster_images\n",
    "        last_fit_terms = mm_trainer.model.top_terms\n",
    "\n",
    "        image_representatives.append(last_fit_images)\n",
    "        top_terms_representatives.append(last_fit_terms)"
   ]
  },
  {
   "cell_type": "code",
   "execution_count": null,
   "metadata": {},
   "outputs": [],
   "source": [
    "for fc in fitted_clusterers:\n",
    "    fc.condensed_tree_.plot(select_clusters=True)"
   ]
  },
  {
   "cell_type": "code",
   "execution_count": null,
   "metadata": {},
   "outputs": [],
   "source": [
    "params = {'path_to_data':path_to_data,\n",
    "'embedding_model':SentenceTransformer(\"clip-ViT-B-32\"),\n",
    "\n",
    "'precomputed_text_embeds':text_embed,\n",
    "'precomputed_image_embeds':image_embed,\n",
    "'n_clusters':10\n",
    "}\n",
    "mm_trainer = trainer.Trainer(custom_dataset_folder=dataset_folder, params=params, metrics_loader=metricsloader)\n",
    "helper.run_experiment(mm_trainer, output_folder, name=f'{base_name}restricted_topics')"
   ]
  }
 ],
 "metadata": {
  "kernelspec": {
   "display_name": "Python 3",
   "language": "python",
   "name": "python3"
  },
  "language_info": {
   "codemirror_mode": {
    "name": "ipython",
    "version": 3
   },
   "file_extension": ".py",
   "mimetype": "text/x-python",
   "name": "python",
   "nbconvert_exporter": "python",
   "pygments_lexer": "ipython3",
   "version": "3.8.6rc1"
  },
  "orig_nbformat": 4
 },
 "nbformat": 4,
 "nbformat_minor": 2
}
