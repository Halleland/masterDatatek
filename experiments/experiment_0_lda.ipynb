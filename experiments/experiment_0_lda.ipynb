{
 "cells": [
  {
   "cell_type": "code",
   "execution_count": 1,
   "metadata": {},
   "outputs": [],
   "source": [
    "from octis.dataset.dataset import Dataset\n"
   ]
  },
  {
   "cell_type": "code",
   "execution_count": 2,
   "metadata": {},
   "outputs": [],
   "source": [
    "import sys\n",
    "sys.path.append('C:\\\\Users\\\\Martin\\\\Documents\\\\GitHub\\\\master\\\\evaluation')"
   ]
  },
  {
   "cell_type": "code",
   "execution_count": 3,
   "metadata": {},
   "outputs": [],
   "source": [
    "import trainer"
   ]
  },
  {
   "cell_type": "code",
   "execution_count": 4,
   "metadata": {},
   "outputs": [],
   "source": [
    "import helper"
   ]
  },
  {
   "cell_type": "code",
   "execution_count": 5,
   "metadata": {},
   "outputs": [],
   "source": [
    "num_topics = [5, 10, 15]\n",
    "output_folder = './results/experiment_0'\n",
    "dataset_folder = './lda_custom__octis_dataset/'"
   ]
  },
  {
   "cell_type": "code",
   "execution_count": 6,
   "metadata": {},
   "outputs": [],
   "source": [
    "lda_dataset = Dataset()\n",
    "lda_dataset.load_custom_dataset_from_folder(dataset_folder)"
   ]
  },
  {
   "cell_type": "code",
   "execution_count": 7,
   "metadata": {},
   "outputs": [],
   "source": [
    "metricsloader = trainer.MetricsLoader(dataset_folder)"
   ]
  },
  {
   "cell_type": "code",
   "execution_count": 8,
   "metadata": {},
   "outputs": [
    {
     "name": "stdout",
     "output_type": "stream",
     "text": [
      "start:14032023_11_26_05\n",
      "npmi:0.08444719798044298\n",
      "diversity:0.9\n",
      "wetc:0.6705727295081474\n",
      "npmi:-0.0054641873007527375\n",
      "diversity:0.84\n",
      "wetc:0.694661329977903\n",
      "npmi:0.0243650741705723\n",
      "diversity:0.86\n",
      "wetc:0.6710207311854598\n",
      "end:14032023_11_26_05\n",
      "start:14032023_11_26_45\n",
      "npmi:0.08076337614318288\n",
      "diversity:0.74\n",
      "wetc:0.7134763027935046\n",
      "npmi:0.055639256849764805\n",
      "diversity:0.78\n",
      "wetc:0.7235412898209219\n",
      "npmi:0.11272668749584969\n",
      "diversity:0.79\n",
      "wetc:0.6821267558158259\n",
      "end:14032023_11_26_45\n",
      "start:14032023_11_27_22\n",
      "npmi:0.06492917205081923\n",
      "diversity:0.7133333333333334\n",
      "wetc:0.6858251240641696\n",
      "npmi:0.017116561664524434\n",
      "diversity:0.7\n",
      "wetc:0.7738367058909673\n",
      "npmi:0.06277348243074134\n",
      "diversity:0.7533333333333333\n",
      "wetc:0.7362562535558214\n",
      "end:14032023_11_27_22\n"
     ]
    }
   ],
   "source": [
    "params = {}\n",
    "base_name = 'experiment_0_lda_'\n",
    "for num in num_topics:\n",
    "    lda_trainer = trainer.LDATrainer(num, custom_dataset_folder=dataset_folder, params=params, metrics_loader=metricsloader)\n",
    "    helper.run_experiment(lda_trainer, output_folder, name=f'{base_name}{num}_topics')"
   ]
  }
 ],
 "metadata": {
  "kernelspec": {
   "display_name": "Python 3",
   "language": "python",
   "name": "python3"
  },
  "language_info": {
   "codemirror_mode": {
    "name": "ipython",
    "version": 3
   },
   "file_extension": ".py",
   "mimetype": "text/x-python",
   "name": "python",
   "nbconvert_exporter": "python",
   "pygments_lexer": "ipython3",
   "version": "3.8.6rc1"
  },
  "orig_nbformat": 4
 },
 "nbformat": 4,
 "nbformat_minor": 2
}
